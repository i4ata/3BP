{
  "cells": [
    {
      "cell_type": "markdown",
      "metadata": {
        "id": "view-in-github",
        "colab_type": "text"
      },
      "source": [
        "<a href=\"https://colab.research.google.com/github/i4ata/3BP/blob/main/OptunaPPO_Colab.ipynb\" target=\"_parent\"><img src=\"https://colab.research.google.com/assets/colab-badge.svg\" alt=\"Open In Colab\"/></a>"
      ]
    },
    {
      "cell_type": "code",
      "execution_count": null,
      "metadata": {
        "colab": {
          "base_uri": "https://localhost:8080/"
        },
        "id": "WRqmNsn44OPG",
        "outputId": "972ec5da-09de-4a1e-dd74-8d638259f9d9"
      },
      "outputs": [
        {
          "name": "stdout",
          "output_type": "stream",
          "text": [
            "fatal: destination path 'BScProject' already exists and is not an empty directory.\n",
            "Looking in indexes: https://pypi.org/simple, https://us-python.pkg.dev/colab-wheels/public/simple/\n",
            "Requirement already satisfied: optuna in /usr/local/lib/python3.9/dist-packages (3.1.1)\n",
            "Requirement already satisfied: colorlog in /usr/local/lib/python3.9/dist-packages (from optuna) (6.7.0)\n",
            "Requirement already satisfied: PyYAML in /usr/local/lib/python3.9/dist-packages (from optuna) (6.0)\n",
            "Requirement already satisfied: sqlalchemy>=1.3.0 in /usr/local/lib/python3.9/dist-packages (from optuna) (2.0.9)\n",
            "Requirement already satisfied: alembic>=1.5.0 in /usr/local/lib/python3.9/dist-packages (from optuna) (1.10.4)\n",
            "Requirement already satisfied: numpy in /usr/local/lib/python3.9/dist-packages (from optuna) (1.22.4)\n",
            "Requirement already satisfied: cmaes>=0.9.1 in /usr/local/lib/python3.9/dist-packages (from optuna) (0.9.1)\n",
            "Requirement already satisfied: packaging>=20.0 in /usr/local/lib/python3.9/dist-packages (from optuna) (23.1)\n",
            "Requirement already satisfied: tqdm in /usr/local/lib/python3.9/dist-packages (from optuna) (4.65.0)\n",
            "Requirement already satisfied: Mako in /usr/local/lib/python3.9/dist-packages (from alembic>=1.5.0->optuna) (1.2.4)\n",
            "Requirement already satisfied: typing-extensions>=4 in /usr/local/lib/python3.9/dist-packages (from alembic>=1.5.0->optuna) (4.5.0)\n",
            "Requirement already satisfied: greenlet!=0.4.17 in /usr/local/lib/python3.9/dist-packages (from sqlalchemy>=1.3.0->optuna) (2.0.2)\n",
            "Requirement already satisfied: MarkupSafe>=0.9.2 in /usr/local/lib/python3.9/dist-packages (from Mako->alembic>=1.5.0->optuna) (2.1.2)\n"
          ]
        }
      ],
      "source": [
        "!git clone https://github.com/i4ata/BScProject.git\n",
        "!pip install optuna"
      ]
    },
    {
      "cell_type": "code",
      "execution_count": null,
      "metadata": {
        "colab": {
          "base_uri": "https://localhost:8080/"
        },
        "id": "jL6w70Ci5Jmc",
        "outputId": "45f1292f-c187-42b1-8e40-66174796eff6"
      },
      "outputs": [
        {
          "name": "stdout",
          "output_type": "stream",
          "text": [
            "Already up to date.\n"
          ]
        }
      ],
      "source": [
        "import os\n",
        "os.chdir('BScProject')\n",
        "!git pull"
      ]
    },
    {
      "cell_type": "code",
      "execution_count": null,
      "metadata": {
        "id": "Um-dtRim6B7U"
      },
      "outputs": [],
      "source": [
        "os.chdir('ppo')"
      ]
    },
    {
      "cell_type": "code",
      "execution_count": null,
      "metadata": {
        "id": "p7Uhyg4a6JMR"
      },
      "outputs": [],
      "source": [
        "import optuna\n",
        "from train import objective"
      ]
    },
    {
      "cell_type": "code",
      "execution_count": null,
      "metadata": {
        "colab": {
          "background_save": true,
          "base_uri": "https://localhost:8080/"
        },
        "id": "uy3BxiIZ6QqC",
        "outputId": "eb4d4911-ae80-43a3-d2d1-0c0afa97d495"
      },
      "outputs": [
        {
          "name": "stderr",
          "output_type": "stream",
          "text": [
            "/usr/local/lib/python3.9/dist-packages/ipykernel/ipkernel.py:283: DeprecationWarning: `should_run_async` will not call `transform_cell` automatically in the future. Please pass the result to `transformed_cell` argument and any exception that happen during thetransform in `preprocessing_exc_tuple` in IPython 7.17 and above.\n",
            "  and should_run_async(code)\n",
            "\u001b[32m[I 2023-04-26 13:39:40,408]\u001b[0m A new study created in memory with name: first_try\u001b[0m\n",
            "\u001b[32m[I 2023-04-26 13:46:38,998]\u001b[0m Trial 0 finished with value: 0.3210129010379641 and parameters: {'n_envs': 2, 'epochs': 28, 'batch_size': 16, 'K_epochs': 45, 'n_layers_actor': 2, 'n_layers_critic': 3, 'hidden_size_actor': 32, 'hidden_size_critic': 128, 'gamma': 0.9957147667424004, 'lr_actor': 0.05280005983706259, 'lr_critic': 0.03283468020722091, 'eps_clip': 0.37227390673862604, 'entropy_parameter': 0.016924526400529227, 'critic_loss_parameter': 0.7421269971073601}. Best is trial 0 with value: 0.3210129010379641.\u001b[0m\n",
            "\u001b[32m[I 2023-04-26 13:52:11,237]\u001b[0m Trial 1 finished with value: 0.28552849444851497 and parameters: {'n_envs': 6, 'epochs': 73, 'batch_size': 1, 'K_epochs': 64, 'n_layers_actor': 1, 'n_layers_critic': 3, 'hidden_size_actor': 32, 'hidden_size_critic': 64, 'gamma': 0.9947147367812644, 'lr_actor': 0.00698227192204709, 'lr_critic': 0.0010729215312415775, 'eps_clip': 0.1008981985120763, 'entropy_parameter': 0.045434196458245125, 'critic_loss_parameter': 0.49719807075999767}. Best is trial 0 with value: 0.3210129010379641.\u001b[0m\n",
            "\u001b[32m[I 2023-04-26 14:09:48,220]\u001b[0m Trial 2 finished with value: 0.2888765238752556 and parameters: {'n_envs': 7, 'epochs': 89, 'batch_size': 8, 'K_epochs': 71, 'n_layers_actor': 7, 'n_layers_critic': 1, 'hidden_size_actor': 256, 'hidden_size_critic': 128, 'gamma': 0.9979836627965002, 'lr_actor': 0.0021129999788320982, 'lr_critic': 0.08525824582095105, 'eps_clip': 0.2336012375781001, 'entropy_parameter': 0.04600086873816325, 'critic_loss_parameter': 0.24918668369587815}. Best is trial 0 with value: 0.3210129010379641.\u001b[0m\n",
            "\u001b[32m[I 2023-04-26 14:30:32,899]\u001b[0m Trial 3 finished with value: 0.2881703970709073 and parameters: {'n_envs': 9, 'epochs': 67, 'batch_size': 16, 'K_epochs': 30, 'n_layers_actor': 3, 'n_layers_critic': 4, 'hidden_size_actor': 32, 'hidden_size_critic': 16, 'gamma': 0.9967186222288434, 'lr_actor': 0.0023711987349680536, 'lr_critic': 0.012100604028680528, 'eps_clip': 0.21039799137140186, 'entropy_parameter': 0.09140194192370105, 'critic_loss_parameter': 0.28928272145066936}. Best is trial 0 with value: 0.3210129010379641.\u001b[0m\n",
            "\u001b[32m[I 2023-04-26 14:33:12,438]\u001b[0m Trial 4 finished with value: 0.2956706768348503 and parameters: {'n_envs': 10, 'epochs': 17, 'batch_size': 4, 'K_epochs': 38, 'n_layers_actor': 10, 'n_layers_critic': 1, 'hidden_size_actor': 256, 'hidden_size_critic': 256, 'gamma': 0.9909257994204327, 'lr_actor': 0.0024261002799883975, 'lr_critic': 0.002198227992637745, 'eps_clip': 0.34953630269891517, 'entropy_parameter': 0.015160781583941263, 'critic_loss_parameter': 0.23325221203815433}. Best is trial 0 with value: 0.3210129010379641.\u001b[0m\n",
            "\u001b[32m[I 2023-04-26 14:39:12,502]\u001b[0m Trial 5 finished with value: 0.2956542300191344 and parameters: {'n_envs': 8, 'epochs': 17, 'batch_size': 16, 'K_epochs': 49, 'n_layers_actor': 4, 'n_layers_critic': 6, 'hidden_size_actor': 16, 'hidden_size_critic': 128, 'gamma': 0.9955912683475308, 'lr_actor': 0.005894641561472738, 'lr_critic': 0.021225155714903264, 'eps_clip': 0.21874380535252608, 'entropy_parameter': 0.043466206406031695, 'critic_loss_parameter': 0.2954950307548181}. Best is trial 0 with value: 0.3210129010379641.\u001b[0m\n",
            "\u001b[32m[I 2023-04-26 14:42:36,614]\u001b[0m Trial 6 finished with value: 0.2874666629558833 and parameters: {'n_envs': 9, 'epochs': 11, 'batch_size': 8, 'K_epochs': 79, 'n_layers_actor': 10, 'n_layers_critic': 9, 'hidden_size_actor': 32, 'hidden_size_critic': 32, 'gamma': 0.9949772275295004, 'lr_actor': 0.007565693936412832, 'lr_critic': 0.004777306735908633, 'eps_clip': 0.273748900461545, 'entropy_parameter': 0.0939413337772201, 'critic_loss_parameter': 0.36059564806057853}. Best is trial 0 with value: 0.3210129010379641.\u001b[0m\n",
            "\u001b[32m[I 2023-04-26 14:47:30,746]\u001b[0m Trial 7 finished with value: 0.26867807356836637 and parameters: {'n_envs': 5, 'epochs': 68, 'batch_size': 2, 'K_epochs': 35, 'n_layers_actor': 9, 'n_layers_critic': 4, 'hidden_size_actor': 32, 'hidden_size_critic': 16, 'gamma': 0.9941296770847968, 'lr_actor': 0.0010026565670074824, 'lr_critic': 0.06019250000390723, 'eps_clip': 0.37913328682734204, 'entropy_parameter': 0.003412419129808031, 'critic_loss_parameter': 0.5093855394630233}. Best is trial 0 with value: 0.3210129010379641.\u001b[0m\n",
            "\u001b[32m[I 2023-04-26 14:55:15,547]\u001b[0m Trial 8 finished with value: 0.29766001423306926 and parameters: {'n_envs': 8, 'epochs': 49, 'batch_size': 4, 'K_epochs': 70, 'n_layers_actor': 9, 'n_layers_critic': 6, 'hidden_size_actor': 128, 'hidden_size_critic': 32, 'gamma': 0.9977158272636247, 'lr_actor': 0.0010493117702043565, 'lr_critic': 0.003859134360302951, 'eps_clip': 0.3677959865249857, 'entropy_parameter': 0.01137557965148698, 'critic_loss_parameter': 0.7033071214641031}. Best is trial 0 with value: 0.3210129010379641.\u001b[0m\n",
            "\u001b[32m[I 2023-04-26 14:59:19,656]\u001b[0m Trial 9 finished with value: 0.30961715849925997 and parameters: {'n_envs': 3, 'epochs': 12, 'batch_size': 16, 'K_epochs': 54, 'n_layers_actor': 5, 'n_layers_critic': 7, 'hidden_size_actor': 32, 'hidden_size_critic': 128, 'gamma': 0.9987994140862586, 'lr_actor': 0.0013316658082428994, 'lr_critic': 0.0020806529180737656, 'eps_clip': 0.16169259301704153, 'entropy_parameter': 0.018640028066200177, 'critic_loss_parameter': 0.7812321939089755}. Best is trial 0 with value: 0.3210129010379641.\u001b[0m\n",
            "\u001b[32m[I 2023-04-26 15:02:39,548]\u001b[0m Trial 10 finished with value: 0.26359630373728243 and parameters: {'n_envs': 1, 'epochs': 38, 'batch_size': 2, 'K_epochs': 47, 'n_layers_actor': 1, 'n_layers_critic': 10, 'hidden_size_actor': 64, 'hidden_size_critic': 256, 'gamma': 0.9929249420275796, 'lr_actor': 0.08078700229204451, 'lr_critic': 0.03667328105532731, 'eps_clip': 0.3114730893626238, 'entropy_parameter': 0.027860155259290295, 'critic_loss_parameter': 0.666269460960873}. Best is trial 0 with value: 0.3210129010379641.\u001b[0m\n",
            "\u001b[32m[I 2023-04-26 15:11:34,518]\u001b[0m Trial 11 finished with value: 0.24407397969824798 and parameters: {'n_envs': 2, 'epochs': 32, 'batch_size': 16, 'K_epochs': 56, 'n_layers_actor': 6, 'n_layers_critic': 7, 'hidden_size_actor': 32, 'hidden_size_critic': 128, 'gamma': 0.9983410772207972, 'lr_actor': 0.02904392712368217, 'lr_critic': 0.011536089516353572, 'eps_clip': 0.39613081799955485, 'entropy_parameter': 0.025236895168319864, 'critic_loss_parameter': 0.7962811495984955}. Best is trial 0 with value: 0.3210129010379641.\u001b[0m\n",
            "\u001b[32m[I 2023-04-26 15:19:13,582]\u001b[0m Trial 12 finished with value: 0.27870793877377764 and parameters: {'n_envs': 3, 'epochs': 27, 'batch_size': 16, 'K_epochs': 46, 'n_layers_actor': 3, 'n_layers_critic': 8, 'hidden_size_actor': 64, 'hidden_size_critic': 128, 'gamma': 0.9987552994205857, 'lr_actor': 0.01952961987007326, 'lr_critic': 0.030426975683080847, 'eps_clip': 0.16356678180503842, 'entropy_parameter': 0.001098190934671027, 'critic_loss_parameter': 0.792585522698849}. Best is trial 0 with value: 0.3210129010379641.\u001b[0m\n",
            "\u001b[32m[I 2023-04-26 15:32:41,004]\u001b[0m Trial 13 finished with value: 0.31973318782437127 and parameters: {'n_envs': 4, 'epochs': 46, 'batch_size': 16, 'K_epochs': 57, 'n_layers_actor': 5, 'n_layers_critic': 3, 'hidden_size_actor': 128, 'hidden_size_critic': 128, 'gamma': 0.9966263136696333, 'lr_actor': 0.08703147837325173, 'lr_critic': 0.006136061937121376, 'eps_clip': 0.3077997119378908, 'entropy_parameter': 0.025553620203115752, 'critic_loss_parameter': 0.6889108659921258}. Best is trial 0 with value: 0.3210129010379641.\u001b[0m\n",
            "\u001b[32m[I 2023-04-26 15:36:25,599]\u001b[0m Trial 14 finished with value: 0.3276741756591946 and parameters: {'n_envs': 4, 'epochs': 48, 'batch_size': 1, 'K_epochs': 58, 'n_layers_actor': 2, 'n_layers_critic': 3, 'hidden_size_actor': 128, 'hidden_size_critic': 64, 'gamma': 0.9965171396295983, 'lr_actor': 0.09010785780882755, 'lr_critic': 0.0071553293334502355, 'eps_clip': 0.3171625496062621, 'entropy_parameter': 0.029102369559335418, 'critic_loss_parameter': 0.6571642051883346}. Best is trial 14 with value: 0.3276741756591946.\u001b[0m\n",
            "\u001b[32m[I 2023-04-26 15:39:46,737]\u001b[0m Trial 15 finished with value: 0.18376428289743296 and parameters: {'n_envs': 4, 'epochs': 57, 'batch_size': 1, 'K_epochs': 40, 'n_layers_actor': 2, 'n_layers_critic': 2, 'hidden_size_actor': 128, 'hidden_size_critic': 64, 'gamma': 0.9963901167877826, 'lr_actor': 0.04776260340047849, 'lr_critic': 0.014318910511243397, 'eps_clip': 0.33677945095431444, 'entropy_parameter': 0.03635189003132191, 'critic_loss_parameter': 0.6190032564297206}. Best is trial 14 with value: 0.3276741756591946.\u001b[0m\n",
            "\u001b[32m[I 2023-04-26 15:42:57,413]\u001b[0m Trial 16 finished with value: 0.24354957963942533 and parameters: {'n_envs': 1, 'epochs': 39, 'batch_size': 1, 'K_epochs': 62, 'n_layers_actor': 3, 'n_layers_critic': 4, 'hidden_size_actor': 16, 'hidden_size_critic': 64, 'gamma': 0.9935455481595447, 'lr_actor': 0.04920263467241141, 'lr_critic': 0.02073581642267181, 'eps_clip': 0.3954022507020639, 'entropy_parameter': 0.06033337927120258, 'critic_loss_parameter': 0.5914355385270086}. Best is trial 14 with value: 0.3276741756591946.\u001b[0m\n",
            "\u001b[32m[I 2023-04-26 15:44:56,949]\u001b[0m Trial 17 finished with value: 0.2805451832448068 and parameters: {'n_envs': 5, 'epochs': 25, 'batch_size': 1, 'K_epochs': 43, 'n_layers_actor': 2, 'n_layers_critic': 5, 'hidden_size_actor': 128, 'hidden_size_critic': 64, 'gamma': 0.9955012094244194, 'lr_actor': 0.016966858386437588, 'lr_critic': 0.007996045975343404, 'eps_clip': 0.32818487742659025, 'entropy_parameter': 0.05903422325860913, 'critic_loss_parameter': 0.728504545426173}. Best is trial 14 with value: 0.3276741756591946.\u001b[0m\n",
            "\u001b[32m[I 2023-04-26 15:48:58,247]\u001b[0m Trial 18 finished with value: 0.25683351046612873 and parameters: {'n_envs': 2, 'epochs': 57, 'batch_size': 1, 'K_epochs': 53, 'n_layers_actor': 7, 'n_layers_critic': 2, 'hidden_size_actor': 128, 'hidden_size_critic': 64, 'gamma': 0.9971751199304547, 'lr_actor': 0.09857406783241004, 'lr_critic': 0.04915940246595702, 'eps_clip': 0.2781781366917422, 'entropy_parameter': 0.03300480594042219, 'critic_loss_parameter': 0.6146879202810174}. Best is trial 14 with value: 0.3276741756591946.\u001b[0m\n",
            "\u001b[32m[I 2023-04-26 16:04:12,461]\u001b[0m Trial 19 finished with value: 0.22224200079217554 and parameters: {'n_envs': 3, 'epochs': 95, 'batch_size': 8, 'K_epochs': 62, 'n_layers_actor': 4, 'n_layers_critic': 3, 'hidden_size_actor': 64, 'hidden_size_critic': 16, 'gamma': 0.9957293553188055, 'lr_actor': 0.050248735798225204, 'lr_critic': 0.09624431892459603, 'eps_clip': 0.36002663388752665, 'entropy_parameter': 0.01079742871822631, 'critic_loss_parameter': 0.7369767516685678}. Best is trial 14 with value: 0.3276741756591946.\u001b[0m\n",
            "\u001b[32m[I 2023-04-26 16:13:04,387]\u001b[0m Trial 20 finished with value: 0.2919369004268407 and parameters: {'n_envs': 6, 'epochs': 78, 'batch_size': 4, 'K_epochs': 50, 'n_layers_actor': 2, 'n_layers_critic': 5, 'hidden_size_actor': 16, 'hidden_size_critic': 32, 'gamma': 0.9975640908516913, 'lr_actor': 0.03428142814543089, 'lr_critic': 0.008380555048446757, 'eps_clip': 0.297094492435947, 'entropy_parameter': 0.020771727970156015, 'critic_loss_parameter': 0.6558903878222155}. Best is trial 14 with value: 0.3276741756591946.\u001b[0m\n",
            "\u001b[32m[I 2023-04-26 16:26:34,600]\u001b[0m Trial 21 finished with value: 0.3088429134048056 and parameters: {'n_envs': 4, 'epochs': 47, 'batch_size': 16, 'K_epochs': 58, 'n_layers_actor': 4, 'n_layers_critic': 3, 'hidden_size_actor': 128, 'hidden_size_critic': 128, 'gamma': 0.9965540227638013, 'lr_actor': 0.07801402587406799, 'lr_critic': 0.005977114232939736, 'eps_clip': 0.3270453292958221, 'entropy_parameter': 0.02760264905703845, 'critic_loss_parameter': 0.6999691416440165}. Best is trial 14 with value: 0.3276741756591946.\u001b[0m\n",
            "\u001b[32m[I 2023-04-26 16:39:37,112]\u001b[0m Trial 22 finished with value: 0.32946287891245446 and parameters: {'n_envs': 4, 'epochs': 45, 'batch_size': 16, 'K_epochs': 69, 'n_layers_actor': 5, 'n_layers_critic': 2, 'hidden_size_actor': 128, 'hidden_size_critic': 128, 'gamma': 0.9963139396178925, 'lr_actor': 0.06898498101737903, 'lr_critic': 0.017972356175703988, 'eps_clip': 0.3012456682023465, 'entropy_parameter': 0.03386422690552686, 'critic_loss_parameter': 0.744518482078573}. Best is trial 22 with value: 0.32946287891245446.\u001b[0m\n",
            "\u001b[32m[I 2023-04-26 16:49:02,167]\u001b[0m Trial 23 finished with value: 0.30779592544422485 and parameters: {'n_envs': 2, 'epochs': 36, 'batch_size': 16, 'K_epochs': 70, 'n_layers_actor': 1, 'n_layers_critic': 2, 'hidden_size_actor': 128, 'hidden_size_critic': 128, 'gamma': 0.9958667183265753, 'lr_actor': 0.06530292012421224, 'lr_critic': 0.017945440730141236, 'eps_clip': 0.349383130304499, 'entropy_parameter': 0.0344281763340967, 'critic_loss_parameter': 0.7405384236931065}. Best is trial 22 with value: 0.32946287891245446.\u001b[0m\n",
            "\u001b[32m[I 2023-04-26 16:55:04,368]\u001b[0m Trial 24 finished with value: 0.2452191571790822 and parameters: {'n_envs': 4, 'epochs': 52, 'batch_size': 2, 'K_epochs': 80, 'n_layers_actor': 6, 'n_layers_critic': 1, 'hidden_size_actor': 128, 'hidden_size_critic': 256, 'gamma': 0.9972744826240234, 'lr_actor': 0.06056223084569997, 'lr_critic': 0.02923158594566363, 'eps_clip': 0.2848801591321673, 'entropy_parameter': 0.011465966829726604, 'critic_loss_parameter': 0.7548312198777666}. Best is trial 22 with value: 0.32946287891245446.\u001b[0m\n",
            "\u001b[32m[I 2023-04-26 16:58:45,243]\u001b[0m Trial 25 finished with value: 0.23160486528659505 and parameters: {'n_envs': 5, 'epochs': 41, 'batch_size': 1, 'K_epochs': 66, 'n_layers_actor': 2, 'n_layers_critic': 2, 'hidden_size_actor': 256, 'hidden_size_critic': 64, 'gamma': 0.9951164322816927, 'lr_actor': 0.09964198063477211, 'lr_critic': 0.01870184453220353, 'eps_clip': 0.31761271858350104, 'entropy_parameter': 0.03788017257369884, 'critic_loss_parameter': 0.7571932522369781}. Best is trial 22 with value: 0.32946287891245446.\u001b[0m\n",
            "\u001b[32m[I 2023-04-26 17:06:42,405]\u001b[0m Trial 26 finished with value: 0.27343764420831573 and parameters: {'n_envs': 3, 'epochs': 26, 'batch_size': 16, 'K_epochs': 75, 'n_layers_actor': 7, 'n_layers_critic': 4, 'hidden_size_actor': 128, 'hidden_size_critic': 128, 'gamma': 0.9960957364193003, 'lr_actor': 0.03573805155541888, 'lr_critic': 0.010870760761441218, 'eps_clip': 0.37013907966539167, 'entropy_parameter': 0.018564460409216877, 'critic_loss_parameter': 0.7985882376770712}. Best is trial 22 with value: 0.32946287891245446.\u001b[0m\n",
            "\u001b[32m[I 2023-04-26 17:22:56,453]\u001b[0m Trial 27 finished with value: 0.2573005267593544 and parameters: {'n_envs': 2, 'epochs': 63, 'batch_size': 16, 'K_epochs': 67, 'n_layers_actor': 3, 'n_layers_critic': 2, 'hidden_size_actor': 128, 'hidden_size_critic': 128, 'gamma': 0.9970883771051934, 'lr_actor': 0.06325348734938671, 'lr_critic': 0.03743311435479247, 'eps_clip': 0.340358369103751, 'entropy_parameter': 0.05323475701788953, 'critic_loss_parameter': 0.6526405516979957}. Best is trial 22 with value: 0.32946287891245446.\u001b[0m\n",
            "\u001b[32m[I 2023-04-26 17:25:38,596]\u001b[0m Trial 28 finished with value: 0.29124299361014677 and parameters: {'n_envs': 1, 'epochs': 30, 'batch_size': 1, 'K_epochs': 59, 'n_layers_actor': 4, 'n_layers_critic': 5, 'hidden_size_actor': 32, 'hidden_size_critic': 64, 'gamma': 0.9962619669538256, 'lr_actor': 0.041799047398866605, 'lr_critic': 0.02337878053767547, 'eps_clip': 0.2593039125837781, 'entropy_parameter': 0.005774108577705515, 'critic_loss_parameter': 0.7073864033349452}. Best is trial 22 with value: 0.32946287891245446.\u001b[0m\n",
            "\u001b[32m[I 2023-04-26 17:30:47,988]\u001b[0m Trial 29 finished with value: 0.2834115220119847 and parameters: {'n_envs': 6, 'epochs': 76, 'batch_size': 1, 'K_epochs': 52, 'n_layers_actor': 1, 'n_layers_critic': 3, 'hidden_size_actor': 32, 'hidden_size_critic': 64, 'gamma': 0.994381051779992, 'lr_actor': 0.025197711494147942, 'lr_critic': 0.014035964807881812, 'eps_clip': 0.30114163322057996, 'entropy_parameter': 0.021217582024765005, 'critic_loss_parameter': 0.5622717992012107}. Best is trial 22 with value: 0.32946287891245446.\u001b[0m\n",
            "\u001b[32m[I 2023-04-26 17:35:49,218]\u001b[0m Trial 30 finished with value: 0.27670657012750594 and parameters: {'n_envs': 5, 'epochs': 44, 'batch_size': 2, 'K_epochs': 75, 'n_layers_actor': 8, 'n_layers_critic': 1, 'hidden_size_actor': 16, 'hidden_size_critic': 16, 'gamma': 0.995050767568653, 'lr_actor': 0.06421923557764997, 'lr_critic': 0.008781497841982388, 'eps_clip': 0.37992089964877784, 'entropy_parameter': 0.043346418061333734, 'critic_loss_parameter': 0.6625834323292675}. Best is trial 22 with value: 0.32946287891245446.\u001b[0m\n",
            "\u001b[32m[I 2023-04-26 17:51:02,614]\u001b[0m Trial 31 finished with value: 0.28793220652733 and parameters: {'n_envs': 4, 'epochs': 53, 'batch_size': 16, 'K_epochs': 60, 'n_layers_actor': 5, 'n_layers_critic': 3, 'hidden_size_actor': 128, 'hidden_size_critic': 128, 'gamma': 0.9965675835619839, 'lr_actor': 0.09793999885555736, 'lr_critic': 0.0068605947616359325, 'eps_clip': 0.3142763092742481, 'entropy_parameter': 0.027905312217745684, 'critic_loss_parameter': 0.6844046419784893}. Best is trial 22 with value: 0.32946287891245446.\u001b[0m\n",
            "\u001b[32m[I 2023-04-26 18:08:24,202]\u001b[0m Trial 32 finished with value: 0.29181164464971515 and parameters: {'n_envs': 4, 'epochs': 60, 'batch_size': 16, 'K_epochs': 56, 'n_layers_actor': 5, 'n_layers_critic': 4, 'hidden_size_actor': 128, 'hidden_size_critic': 128, 'gamma': 0.995997073838625, 'lr_actor': 0.047518949823781007, 'lr_critic': 0.005943832763447071, 'eps_clip': 0.2978651889300672, 'entropy_parameter': 0.022877173892773696, 'critic_loss_parameter': 0.7154173360022059}. Best is trial 22 with value: 0.32946287891245446.\u001b[0m\n",
            "\u001b[32m[I 2023-04-26 18:23:47,071]\u001b[0m Trial 33 finished with value: 0.2585889209634624 and parameters: {'n_envs': 7, 'epochs': 47, 'batch_size': 16, 'K_epochs': 64, 'n_layers_actor': 6, 'n_layers_critic': 2, 'hidden_size_actor': 128, 'hidden_size_critic': 128, 'gamma': 0.9969461124570075, 'lr_actor': 0.0812604505458425, 'lr_critic': 0.014574490351376677, 'eps_clip': 0.3363215660237248, 'entropy_parameter': 0.031127351716096516, 'critic_loss_parameter': 0.757618012454814}. Best is trial 22 with value: 0.32946287891245446.\u001b[0m\n",
            "\u001b[32m[I 2023-04-26 18:27:16,628]\u001b[0m Trial 34 finished with value: 0.31544146209489554 and parameters: {'n_envs': 3, 'epochs': 21, 'batch_size': 8, 'K_epochs': 31, 'n_layers_actor': 5, 'n_layers_critic': 3, 'hidden_size_actor': 256, 'hidden_size_critic': 128, 'gamma': 0.9980090717600554, 'lr_actor': 0.062132869689884365, 'lr_critic': 0.0100255968129794, 'eps_clip': 0.35118471378125266, 'entropy_parameter': 0.03903627621921326, 'critic_loss_parameter': 0.6825334238585956}. Best is trial 22 with value: 0.32946287891245446.\u001b[0m\n",
            "\u001b[32m[I 2023-04-26 18:36:41,724]\u001b[0m Trial 35 finished with value: 0.3284931900923115 and parameters: {'n_envs': 4, 'epochs': 34, 'batch_size': 16, 'K_epochs': 42, 'n_layers_actor': 3, 'n_layers_critic': 1, 'hidden_size_actor': 128, 'hidden_size_critic': 256, 'gamma': 0.9970485093087126, 'lr_actor': 0.03957296374720079, 'lr_critic': 0.003395951476220462, 'eps_clip': 0.2572192638394136, 'entropy_parameter': 0.017636059446386486, 'critic_loss_parameter': 0.6353893607630532}. Best is trial 22 with value: 0.32946287891245446.\u001b[0m\n"
          ]
        }
      ],
      "source": [
        "study = optuna.create_study(direction='maximize', study_name='first_try')\n",
        "study.optimize(objective, n_trials = 100)"
      ]
    },
    {
      "cell_type": "code",
      "execution_count": null,
      "metadata": {
        "id": "nC2blKfl_qwb"
      },
      "outputs": [],
      "source": [
        "import pickle"
      ]
    },
    {
      "cell_type": "code",
      "execution_count": null,
      "metadata": {
        "id": "9bHHqiHaAQR7"
      },
      "outputs": [],
      "source": [
        "with open('study.pkl', 'rb') as f:\n",
        "    pickle.dump(study, f)"
      ]
    },
    {
      "cell_type": "code",
      "execution_count": null,
      "metadata": {
        "id": "gP8kwVm4Aa7-"
      },
      "outputs": [],
      "source": [
        "!git add .\n",
        "!git commit -m \"optuna tuning\"\n",
        "!git push"
      ]
    }
  ],
  "metadata": {
    "accelerator": "GPU",
    "colab": {
      "provenance": [],
      "authorship_tag": "ABX9TyPJdPrwszVqDF7jOM3Uzkdr",
      "include_colab_link": true
    },
    "gpuClass": "standard",
    "kernelspec": {
      "display_name": "Python 3",
      "name": "python3"
    },
    "language_info": {
      "name": "python"
    }
  },
  "nbformat": 4,
  "nbformat_minor": 0
}