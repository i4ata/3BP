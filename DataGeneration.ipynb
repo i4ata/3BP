{
  "nbformat": 4,
  "nbformat_minor": 0,
  "metadata": {
    "colab": {
      "provenance": [],
      "authorship_tag": "ABX9TyNLzgnjB1NqZQ0gLxNuJiCF",
      "include_colab_link": true
    },
    "kernelspec": {
      "name": "python3",
      "display_name": "Python 3"
    },
    "language_info": {
      "name": "python"
    },
    "gpuClass": "standard",
    "accelerator": "GPU"
  },
  "cells": [
    {
      "cell_type": "markdown",
      "metadata": {
        "id": "view-in-github",
        "colab_type": "text"
      },
      "source": [
        "<a href=\"https://colab.research.google.com/github/i4ata/3BP/blob/main/DataGeneration.ipynb\" target=\"_parent\"><img src=\"https://colab.research.google.com/assets/colab-badge.svg\" alt=\"Open In Colab\"/></a>"
      ]
    },
    {
      "cell_type": "code",
      "source": [
        "%matplotlib inline"
      ],
      "metadata": {
        "id": "2i_eC-Otz2Gg"
      },
      "execution_count": null,
      "outputs": []
    },
    {
      "cell_type": "code",
      "source": [
        "import numpy as np\n",
        "import matplotlib.pyplot as plt\n",
        "import random as rd\n",
        "import time\n",
        "from tqdm import tqdm\n",
        "\n",
        "from google.colab import drive\n",
        "drive.mount('/content/gdrive')\n",
        "\n",
        "np.seterr(invalid = 'ignore')\n",
        "np.random.seed(1234)\n"
      ],
      "metadata": {
        "id": "MoAdkLBPhTaT",
        "colab": {
          "base_uri": "https://localhost:8080/"
        },
        "outputId": "8099b3a1-6bd0-4462-8c01-87ffae7a210c"
      },
      "execution_count": null,
      "outputs": [
        {
          "output_type": "stream",
          "name": "stdout",
          "text": [
            "Drive already mounted at /content/gdrive; to attempt to forcibly remount, call drive.mount(\"/content/gdrive\", force_remount=True).\n"
          ]
        }
      ]
    },
    {
      "cell_type": "code",
      "source": [
        "step = 0.001\n",
        "max_t = 5\n",
        "M = [1,1,1]\n",
        "G = 1"
      ],
      "metadata": {
        "id": "QwSK5_mFivyi"
      },
      "execution_count": null,
      "outputs": []
    },
    {
      "cell_type": "code",
      "source": [
        "step_sq = step**2"
      ],
      "metadata": {
        "id": "GL65IeI7vIdt"
      },
      "execution_count": null,
      "outputs": []
    },
    {
      "cell_type": "code",
      "source": [
        "t = np.arange(start = 0, stop = max_t, step = step)\n",
        "t = t[:1000] # Reduce timesteps to only 1000"
      ],
      "metadata": {
        "id": "_LzySgXTmDjE"
      },
      "execution_count": null,
      "outputs": []
    },
    {
      "cell_type": "code",
      "source": [
        "def setup():\n",
        "  return np.concatenate((\n",
        "      np.random.normal(loc = 0., scale = 1.5, size = 6), # locations\n",
        "      np.random.normal(loc = 0., scale = 0.5, size = 6)  # velocities\n",
        "  ))"
      ],
      "metadata": {
        "id": "AdCOwFBKrOIP"
      },
      "execution_count": null,
      "outputs": []
    },
    {
      "cell_type": "code",
      "source": [
        "def show(x, y):\n",
        "  \n",
        "  plt.figure(figsize = (8, 8))\n",
        "  plt.plot(x[:,0], y[:,0], color = 'green')\n",
        "  plt.plot(x[:,1], y[:,1], color = 'blue')\n",
        "  plt.plot(x[:,2], y[:,2], color = 'red')\n",
        "  plt.scatter(x[0][0], y[0][0], color = 'green')\n",
        "  plt.scatter(x[0][1], y[0][1], color = 'blue')\n",
        "  plt.scatter(x[0][2], y[0][2], color = 'red')\n",
        "  plt.grid()\n",
        "  plt.xlim(np.amin(x) - 0.2, np.amax(x) + 0.2)\n",
        "  plt.ylim(np.amin(y) - 0.2, np.amax(y) + 0.2)\n",
        "  \n",
        "  plt.show()"
      ],
      "metadata": {
        "id": "NwsJ2_JLp69L"
      },
      "execution_count": null,
      "outputs": []
    },
    {
      "cell_type": "code",
      "source": [
        "def compute_acceleration(x, y, ax, ay):\n",
        "\n",
        "    for i in range(3):\n",
        "\n",
        "        dx = (x[i] - x).T\n",
        "        dy = (y[i] - y).T\n",
        "\n",
        "        d = np.sqrt(dx ** 2 + dy ** 2) ** 3\n",
        "        \n",
        "        ax[:, i] = np.nan_to_num(-dx*M*G / d)\n",
        "        ay[:, i] = np.nan_to_num(-dy*M*G / d)\n",
        "\n",
        "    ax_tot = np.sum(ax, axis=0)\n",
        "    ay_tot = np.sum(ay, axis=0)\n",
        "\n",
        "    return ax_tot, ay_tot"
      ],
      "metadata": {
        "id": "5CUE0zy5ixxL"
      },
      "execution_count": null,
      "outputs": []
    },
    {
      "cell_type": "code",
      "source": [
        "def run_euler():\n",
        "\n",
        "  x = np.zeros(shape = (len(t) + 1, 3))\n",
        "  y = np.zeros(shape = (len(t) + 1, 3))\n",
        "\n",
        "  vx = np.zeros(shape = (len(t) + 1, 3))\n",
        "  vy = np.zeros(shape = (len(t) + 1, 3))\n",
        "\n",
        "  ax = np.zeros(shape = (3, 3))\n",
        "  ay = np.zeros(shape = (3, 3))\n",
        "\n",
        "  init = setup()\n",
        "\n",
        "  x[0] = init[:3]\n",
        "  y[0] = init[3:6]\n",
        "\n",
        "  vx[0] = init[6:9]\n",
        "  vy[0] = init[9:]\n",
        "\n",
        "  for i in range(len(t)):\n",
        "    ax_tot, ay_tot = compute_acceleration(x[i], y[i], ax, ay)\n",
        "\n",
        "    x[i+1] = x[i] + step * vx[i]\n",
        "    y[i+1] = y[i] + step * vy[i]\n",
        "\n",
        "    vx[i+1] = vx[i] + step * ax_tot\n",
        "    vy[i+1] = vy[i] + step * ay_tot\n",
        "\n",
        "  return x, y, vx, vy"
      ],
      "metadata": {
        "id": "SHgNm80Akz1l"
      },
      "execution_count": null,
      "outputs": []
    },
    {
      "cell_type": "code",
      "source": [
        "def run_verlet():\n",
        "\n",
        "  x = np.zeros(shape = (len(t) + 1, 3))\n",
        "  y = np.zeros(shape = (len(t) + 1, 3))\n",
        "\n",
        "  vx = np.zeros(shape = (len(t) + 1, 3))\n",
        "  vy = np.zeros(shape = (len(t) + 1, 3))\n",
        "\n",
        "  ax = np.zeros(shape = (3, 3))\n",
        "  ay = np.zeros(shape = (3, 3))\n",
        "  \n",
        "  init = setup()\n",
        "\n",
        "  x[0] = init[:3]\n",
        "  y[0] = init[3:6]\n",
        "\n",
        "  vx[0] = init[6:9]\n",
        "  vy[0] = init[9:]\n",
        "\n",
        "  for i in range(len(t)):\n",
        "    ax_tot, ay_tot = compute_acceleration(x[i], y[i], ax, ay)\n",
        "\n",
        "    x[i+1] = x[i] + step * vx[i] + .5 * ax_tot * step_sq\n",
        "    y[i+1] = y[i] + step * vy[i] + .5 * ay_tot * step_sq\n",
        "\n",
        "    ax_tot_next, ay_tot_next = compute_acceleration(x[i+1], y[i+1], ax, ay)\n",
        "\n",
        "    vx[i+1] = vx[i] + .5 * (ax_tot + ax_tot_next) * step\n",
        "    vy[i+1] = vy[i] + .5 * (ay_tot + ay_tot_next) * step\n",
        "\n",
        "    \n",
        "\n",
        "  return x, y, vx, vy"
      ],
      "metadata": {
        "id": "8nU1EnQfu3SS"
      },
      "execution_count": null,
      "outputs": []
    },
    {
      "cell_type": "code",
      "source": [
        "cool_setup = np.array([ 0.24679431, -0.64514354,  1.1510531 ,  1.47737976,  0.40625377,\n",
        "        2.08797929,  0.03992116, -0.19998229, -0.51392528, -0.29235911,\n",
        "        0.40829696, -0.04097353])"
      ],
      "metadata": {
        "id": "AOyecBlKnFgQ"
      },
      "execution_count": null,
      "outputs": []
    },
    {
      "cell_type": "code",
      "source": [
        "%%time\n",
        "xs, ys, vxs, vys = run_euler()\n",
        "show(xs, ys)"
      ],
      "metadata": {
        "colab": {
          "base_uri": "https://localhost:8080/",
          "height": 518
        },
        "id": "1EOSPU7rnn-b",
        "outputId": "8f1a8e36-302f-4a08-a32e-08672ddad9f9"
      },
      "execution_count": null,
      "outputs": [
        {
          "output_type": "display_data",
          "data": {
            "text/plain": [
              "<Figure size 576x576 with 1 Axes>"
            ],
            "image/png": "[encoded data removed]"
          },
          "metadata": {
            "needs_background": "light"
          }
        },
        {
          "output_type": "stream",
          "name": "stdout",
          "text": [
            "CPU times: user 575 ms, sys: 39.5 ms, total: 614 ms\n",
            "Wall time: 622 ms\n"
          ]
        }
      ]
    },
    {
      "cell_type": "code",
      "source": [
        "%%time\n",
        "xs, ys, vxs, vys = run_verlet()\n",
        "show(xs, ys)"
      ],
      "metadata": {
        "colab": {
          "base_uri": "https://localhost:8080/",
          "height": 518
        },
        "id": "EWbZ1eqLuBVQ",
        "outputId": "4592ac4e-e75f-4150-984d-df7814a4880d"
      },
      "execution_count": null,
      "outputs": [
        {
          "output_type": "display_data",
          "data": {
            "text/plain": [
              "<Figure size 576x576 with 1 Axes>"
            ],
            "image/png": "[encoded data removed]"
          },
          "metadata": {
            "needs_background": "light"
          }
        },
        {
          "output_type": "stream",
          "name": "stdout",
          "text": [
            "CPU times: user 762 ms, sys: 115 ms, total: 877 ms\n",
            "Wall time: 766 ms\n"
          ]
        }
      ]
    },
    {
      "cell_type": "code",
      "source": [
        "def generate_data(samples = 10_000):\n",
        "  output = np.zeros((len(t) + 1, 12, samples))\n",
        "  for sample in tqdm(range(samples)):\n",
        "    output[:, :, sample] = np.concatenate(run_verlet(), axis = 1)\n",
        "  return output"
      ],
      "metadata": {
        "id": "YEMLrvE30X7k"
      },
      "execution_count": null,
      "outputs": []
    },
    {
      "cell_type": "code",
      "source": [
        "dat = generate_data()"
      ],
      "metadata": {
        "colab": {
          "base_uri": "https://localhost:8080/"
        },
        "id": "N2PpROvo1olY",
        "outputId": "d2ed0180-430a-4caf-af09-f69fe283a4bb"
      },
      "execution_count": null,
      "outputs": [
        {
          "output_type": "stream",
          "name": "stderr",
          "text": [
            "100%|██████████| 10000/10000 [1:27:08<00:00,  1.91it/s]\n"
          ]
        }
      ]
    },
    {
      "cell_type": "code",
      "source": [
        "%%time\n",
        "mask = (np.abs(dat) < 5).all(axis = (0, 1))\n",
        "clean_data = dat[:, :, mask]"
      ],
      "metadata": {
        "colab": {
          "base_uri": "https://localhost:8080/"
        },
        "id": "NCnKemr-5910",
        "outputId": "c6a76008-1808-4e0d-9729-99e286269c76"
      },
      "execution_count": null,
      "outputs": [
        {
          "output_type": "stream",
          "name": "stdout",
          "text": [
            "CPU times: user 2.03 s, sys: 345 ms, total: 2.38 s\n",
            "Wall time: 2.37 s\n"
          ]
        }
      ]
    },
    {
      "cell_type": "code",
      "source": [
        "clean_data.shape"
      ],
      "metadata": {
        "colab": {
          "base_uri": "https://localhost:8080/"
        },
        "id": "M-WyJUE4A0gb",
        "outputId": "2b40ed96-1edf-4956-89d0-4b70ed16a8c5"
      },
      "execution_count": null,
      "outputs": [
        {
          "output_type": "execute_result",
          "data": {
            "text/plain": [
              "(1001, 12, 7745)"
            ]
          },
          "metadata": {},
          "execution_count": 32
        }
      ]
    },
    {
      "cell_type": "code",
      "source": [
        "np.save(\"data\", clean_data)"
      ],
      "metadata": {
        "id": "Gc3FPC3k_KlZ"
      },
      "execution_count": null,
      "outputs": []
    },
    {
      "cell_type": "code",
      "source": [
        "np.prod(dat.shape)"
      ],
      "metadata": {
        "colab": {
          "base_uri": "https://localhost:8080/"
        },
        "id": "8d0jj8k_Cidq",
        "outputId": "37beec5e-ebd1-40fd-912d-091988a8e466"
      },
      "execution_count": null,
      "outputs": [
        {
          "output_type": "execute_result",
          "data": {
            "text/plain": [
              "120120000"
            ]
          },
          "metadata": {},
          "execution_count": 34
        }
      ]
    }
  ]
}