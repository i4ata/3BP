{
  "cells": [
    {
      "cell_type": "markdown",
      "metadata": {
        "id": "view-in-github",
        "colab_type": "text"
      },
      "source": [
        "<a href=\"https://colab.research.google.com/github/i4ata/3BP/blob/main/DataGeneration.ipynb\" target=\"_parent\"><img src=\"https://colab.research.google.com/assets/colab-badge.svg\" alt=\"Open In Colab\"/></a>"
      ]
    },
    {
      "cell_type": "markdown",
      "source": [
        "# Data Generation\n",
        "\n",
        "In this notebook, I generate trajectories of three bodies in 2D."
      ],
      "metadata": {
        "id": "f0iumJhxyvmb"
      }
    },
    {
      "cell_type": "code",
      "execution_count": 1,
      "metadata": {
        "id": "2i_eC-Otz2Gg"
      },
      "outputs": [],
      "source": [
        "%matplotlib inline"
      ]
    },
    {
      "cell_type": "code",
      "execution_count": 2,
      "metadata": {
        "colab": {
          "base_uri": "https://localhost:8080/"
        },
        "id": "MoAdkLBPhTaT",
        "outputId": "a0cdea4b-efb2-4bce-aece-412e1c7b175f"
      },
      "outputs": [
        {
          "output_type": "stream",
          "name": "stdout",
          "text": [
            "Drive already mounted at /content/gdrive; to attempt to forcibly remount, call drive.mount(\"/content/gdrive\", force_remount=True).\n"
          ]
        }
      ],
      "source": [
        "import numpy as np\n",
        "import matplotlib.pyplot as plt\n",
        "import random as rd\n",
        "import time\n",
        "from tqdm import tqdm\n",
        "import numba as nb\n",
        "import os\n",
        "\n",
        "from google.colab import drive\n",
        "drive.mount('/content/gdrive')\n",
        "\n",
        "from typing import Tuple\n",
        "\n",
        "np.seterr(invalid = 'ignore')\n",
        "np.random.seed(12345)\n"
      ]
    },
    {
      "cell_type": "code",
      "source": [
        "# Path where I want to save the data\n",
        "path = os.path.join(\"gdrive\", \"MyDrive\", \"Colab Notebooks\", \"3BP\")"
      ],
      "metadata": {
        "id": "Xds_MccC4PEs"
      },
      "execution_count": 3,
      "outputs": []
    },
    {
      "cell_type": "code",
      "execution_count": 4,
      "metadata": {
        "id": "QwSK5_mFivyi"
      },
      "outputs": [],
      "source": [
        "# Defining constants\n",
        "step = 0.001    # dt\n",
        "max_t = 5       # total time\n",
        "M = np.ones(3)  # masses of the bodies\n",
        "G = 1           # gravitational constant\n",
        "step_sq = step**2\n",
        "\n",
        "t = np.arange(start = 0, stop = max_t, step = step)"
      ]
    },
    {
      "cell_type": "code",
      "execution_count": 5,
      "metadata": {
        "id": "AdCOwFBKrOIP"
      },
      "outputs": [],
      "source": [
        "# Initialize the system\n",
        "@nb.njit\n",
        "def setup() -> np.array:\n",
        "    rs = np.random.uniform(1, 1.5, size = 3)\n",
        "    thetas = np.array([rd.uniform(0, 2*np.pi/3), rd.uniform(2*np.pi/3, 4*np.pi/3), rd.uniform(4*np.pi/3, 2*np.pi)])\n",
        "    return np.concatenate((\n",
        "        rs * np.cos(thetas), # xs\n",
        "        rs * np.sin(thetas), # ys\n",
        "        np.random.uniform(-.3, .3, size = 6)  # velocities\n",
        "    ))"
      ]
    },
    {
      "cell_type": "code",
      "execution_count": 6,
      "metadata": {
        "id": "NwsJ2_JLp69L"
      },
      "outputs": [],
      "source": [
        "# display trajectories\n",
        "def show(x : np.array, y : np.array) -> None:\n",
        "  \n",
        "    plt.figure(figsize = (8, 8))\n",
        "    plt.plot(x[:,0], y[:,0], color = 'green')\n",
        "    plt.plot(x[:,1], y[:,1], color = 'blue')\n",
        "    plt.plot(x[:,2], y[:,2], color = 'red')\n",
        "    plt.scatter(x[0][0], y[0][0], color = 'green')\n",
        "    plt.scatter(x[0][1], y[0][1], color = 'blue')\n",
        "    plt.scatter(x[0][2], y[0][2], color = 'red')\n",
        "    plt.grid()\n",
        "    plt.xlim(np.amin(x) - 0.2, np.amax(x) + 0.2)\n",
        "    plt.ylim(np.amin(y) - 0.2, np.amax(y) + 0.2)\n",
        "\n",
        "    plt.show()"
      ]
    },
    {
      "cell_type": "code",
      "execution_count": 7,
      "metadata": {
        "id": "-YQnyWeUs_tj"
      },
      "outputs": [],
      "source": [
        "@nb.njit\n",
        "def nan_to_num(arr : np.array) -> np.array:\n",
        "    for i in range(arr.shape[0]):\n",
        "        if np.isnan(arr[i]):\n",
        "            arr[i] = 0\n",
        "    return arr"
      ]
    },
    {
      "cell_type": "code",
      "execution_count": 8,
      "metadata": {
        "id": "5CUE0zy5ixxL"
      },
      "outputs": [],
      "source": [
        "@nb.njit\n",
        "def compute_acceleration(x : np.array, y : np.array, \n",
        "                         ax : np.array, ay : np.array, \n",
        "                         M : np.array = np.ones(3), \n",
        "                         G : float = 1.,\n",
        "                         eps : float = .1) -> Tuple[np.array, np.array]:\n",
        "\n",
        "    for i in range(3):\n",
        "\n",
        "        dx = (x[i] - x).T\n",
        "        dy = (y[i] - y).T\n",
        "\n",
        "        r = np.linalg.norm(dx - dy)\n",
        "        r = np.maximum(r, eps)\n",
        "        d = r ** 3\n",
        "\n",
        "        ax[:, i] = nan_to_num(-dx*M*G / d)\n",
        "        ay[:, i] = nan_to_num(-dy*M*G / d)\n",
        "\n",
        "    ax_tot = np.sum(ax, axis=0)\n",
        "    ay_tot = np.sum(ay, axis=0)\n",
        "\n",
        "    return ax_tot, ay_tot"
      ]
    },
    {
      "cell_type": "code",
      "execution_count": 9,
      "metadata": {
        "id": "8nU1EnQfu3SS"
      },
      "outputs": [],
      "source": [
        "# compute trajectories\n",
        "@nb.njit\n",
        "def run_verlet(init : np.array = None) -> Tuple[np.array, np.array, np.array, np.array]:\n",
        "\n",
        "    x = np.zeros(shape = (len(t) + 1, 3))\n",
        "    y = np.zeros(shape = (len(t) + 1, 3))\n",
        "\n",
        "    vx = np.zeros(shape = (len(t) + 1, 3))\n",
        "    vy = np.zeros(shape = (len(t) + 1, 3))\n",
        "\n",
        "    ax = np.zeros(shape = (3, 3))\n",
        "    ay = np.zeros(shape = (3, 3))\n",
        "\n",
        "    if init is None:\n",
        "        init = setup()\n",
        "\n",
        "    x[0] = init[:3]\n",
        "    y[0] = init[3:6]\n",
        "\n",
        "    vx[0] = init[6:9]\n",
        "    vy[0] = init[9:]\n",
        "\n",
        "    for i in range(len(t)):\n",
        "        ax_tot, ay_tot = compute_acceleration(x[i], y[i], ax, ay)\n",
        "\n",
        "        x[i+1] = x[i] + step * vx[i] + .5 * ax_tot * step_sq\n",
        "        y[i+1] = y[i] + step * vy[i] + .5 * ay_tot * step_sq\n",
        "\n",
        "        ax_tot_next, ay_tot_next = compute_acceleration(x[i+1], y[i+1], ax, ay)\n",
        "\n",
        "        vx[i+1] = vx[i] + .5 * (ax_tot + ax_tot_next) * step\n",
        "        vy[i+1] = vy[i] + .5 * (ay_tot + ay_tot_next) * step\n",
        "\n",
        "\n",
        "\n",
        "    return x, y, vx, vy"
      ]
    },
    {
      "cell_type": "code",
      "execution_count": 10,
      "metadata": {
        "id": "CMkCmAewuY8N"
      },
      "outputs": [],
      "source": [
        "cool_setup = np.array([-0.48030582, -1.37429829, -1.28950245,  0.33897823,  \n",
        "                       0.94316374, 0.27974152,  0.47623917,  0.49406879, \n",
        "                       -0.03630416, -0.27530146, -0.46907631, -0.61953578])"
      ]
    },
    {
      "cell_type": "code",
      "source": [
        "xs, ys, vxs, vys = run_verlet(init = cool_setup)\n",
        "show(xs, ys)"
      ],
      "metadata": {
        "colab": {
          "base_uri": "https://localhost:8080/",
          "height": 676
        },
        "id": "snsUHF_KgxgH",
        "outputId": "11eee07d-58f0-451f-9e1b-8674f9765b30"
      },
      "execution_count": 11,
      "outputs": [
        {
          "output_type": "display_data",
          "data": {
            "text/plain": [
              "<Figure size 800x800 with 1 Axes>"
            ],
            "image/png": "[encoded data removed]"
          },
          "metadata": {}
        }
      ]
    },
    {
      "cell_type": "code",
      "execution_count": 12,
      "metadata": {
        "id": "YEMLrvE30X7k"
      },
      "outputs": [],
      "source": [
        "def generate_data(samples = 1_000):\n",
        "    output = np.zeros((len(t) + 1, 12, samples))\n",
        "    for sample in tqdm(range(samples)):\n",
        "        output[:, :, sample] = np.concatenate(run_verlet(), axis = 1)\n",
        "    return output"
      ]
    },
    {
      "cell_type": "code",
      "execution_count": 13,
      "metadata": {
        "id": "HnvkVJ649gxA"
      },
      "outputs": [],
      "source": [
        "def clean_data(a, threshold = 6):\n",
        "    mask = (np.abs(a) < threshold).all(axis = (0,1))\n",
        "    return a[:, :, mask]"
      ]
    },
    {
      "cell_type": "code",
      "source": [
        "for i in range(10):\n",
        "  data = generate_data()\n",
        "  np.save(path + f\"/data{i}.npy\", clean_data(data))"
      ],
      "metadata": {
        "colab": {
          "base_uri": "https://localhost:8080/"
        },
        "id": "EUm9obmLC5gq",
        "outputId": "ada26dd6-a8eb-47c2-868b-ec98d3c333c4"
      },
      "execution_count": 14,
      "outputs": [
        {
          "output_type": "stream",
          "name": "stderr",
          "text": [
            "100%|██████████| 1000/1000 [00:41<00:00, 24.25it/s]\n",
            "100%|██████████| 1000/1000 [00:36<00:00, 27.14it/s]\n",
            "100%|██████████| 1000/1000 [00:36<00:00, 27.76it/s]\n",
            "100%|██████████| 1000/1000 [00:35<00:00, 27.89it/s]\n",
            "100%|██████████| 1000/1000 [00:36<00:00, 27.71it/s]\n",
            "100%|██████████| 1000/1000 [00:35<00:00, 27.81it/s]\n",
            "100%|██████████| 1000/1000 [00:35<00:00, 27.87it/s]\n",
            "100%|██████████| 1000/1000 [00:35<00:00, 28.02it/s]\n",
            "100%|██████████| 1000/1000 [00:35<00:00, 27.87it/s]\n",
            "100%|██████████| 1000/1000 [00:35<00:00, 27.83it/s]\n"
          ]
        }
      ]
    },
    {
      "cell_type": "code",
      "source": [
        "for i in range(10, 20):\n",
        "  data = generate_data()\n",
        "  np.save(path + f\"/data{i}.npy\", clean_data(data))"
      ],
      "metadata": {
        "colab": {
          "base_uri": "https://localhost:8080/"
        },
        "id": "xVnJwvxzwFFe",
        "outputId": "df002884-9cb2-4911-f761-990f6d78ca82"
      },
      "execution_count": 15,
      "outputs": [
        {
          "output_type": "stream",
          "name": "stderr",
          "text": [
            "100%|██████████| 1000/1000 [00:34<00:00, 28.83it/s]\n",
            "100%|██████████| 1000/1000 [00:35<00:00, 27.85it/s]\n",
            "100%|██████████| 1000/1000 [00:35<00:00, 28.13it/s]\n",
            "100%|██████████| 1000/1000 [00:34<00:00, 28.79it/s]\n",
            "100%|██████████| 1000/1000 [00:34<00:00, 28.82it/s]\n",
            "100%|██████████| 1000/1000 [00:34<00:00, 28.83it/s]\n",
            "100%|██████████| 1000/1000 [00:34<00:00, 28.68it/s]\n",
            "100%|██████████| 1000/1000 [00:35<00:00, 28.46it/s]\n",
            "100%|██████████| 1000/1000 [00:35<00:00, 28.16it/s]\n",
            "100%|██████████| 1000/1000 [00:35<00:00, 28.13it/s]\n"
          ]
        }
      ]
    }
  ],
  "metadata": {
    "accelerator": "GPU",
    "colab": {
      "provenance": [],
      "include_colab_link": true
    },
    "gpuClass": "standard",
    "kernelspec": {
      "display_name": "Python 3 (ipykernel)",
      "language": "python",
      "name": "python3"
    },
    "language_info": {
      "codemirror_mode": {
        "name": "ipython",
        "version": 3
      },
      "file_extension": ".py",
      "mimetype": "text/x-python",
      "name": "python",
      "nbconvert_exporter": "python",
      "pygments_lexer": "ipython3",
      "version": "3.10.6"
    }
  },
  "nbformat": 4,
  "nbformat_minor": 0
}